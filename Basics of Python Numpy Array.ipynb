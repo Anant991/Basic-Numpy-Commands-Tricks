{
 "cells": [
  {
   "cell_type": "code",
   "execution_count": 1,
   "id": "a1fbfad7",
   "metadata": {},
   "outputs": [],
   "source": [
    "import numpy as np"
   ]
  },
  {
   "cell_type": "markdown",
   "id": "a28bec80",
   "metadata": {},
   "source": [
    "# (a) Creating Numpy Array"
   ]
  },
  {
   "cell_type": "code",
   "execution_count": 3,
   "id": "846c1d9b",
   "metadata": {},
   "outputs": [
    {
     "data": {
      "text/plain": [
       "array([10, 20, 30, 40, 50])"
      ]
     },
     "execution_count": 3,
     "metadata": {},
     "output_type": "execute_result"
    }
   ],
   "source": [
    "# (i) Single Dimensional Array\n",
    "\n",
    "n1=np.array([10,20,30,40,50])\n",
    "n1"
   ]
  },
  {
   "cell_type": "code",
   "execution_count": 2,
   "id": "5bcb9dfa",
   "metadata": {},
   "outputs": [
    {
     "data": {
      "text/plain": [
       "array([[10, 20, 30, 40],\n",
       "       [50, 60, 70, 80]])"
      ]
     },
     "execution_count": 2,
     "metadata": {},
     "output_type": "execute_result"
    }
   ],
   "source": [
    "# (ii) Multi Dimensional Array\n",
    "\n",
    "n2=np.array([[10,20,30,40],[50,60,70,80]])\n",
    "n2"
   ]
  },
  {
   "cell_type": "markdown",
   "id": "ccc84e40",
   "metadata": {},
   "source": [
    "# (b) Initializing Numpy Array"
   ]
  },
  {
   "cell_type": "code",
   "execution_count": 5,
   "id": "38b6a4f5",
   "metadata": {},
   "outputs": [
    {
     "data": {
      "text/plain": [
       "array([[0., 0.]])"
      ]
     },
     "execution_count": 5,
     "metadata": {},
     "output_type": "execute_result"
    }
   ],
   "source": [
    "# (i) Initializing Numpy Array with zeros\n",
    "\n",
    "n1=np.zeros((1,2))\n",
    "n1"
   ]
  },
  {
   "cell_type": "code",
   "execution_count": 6,
   "id": "74cfb2d0",
   "metadata": {},
   "outputs": [
    {
     "data": {
      "text/plain": [
       "array([[0., 0., 0., 0., 0.],\n",
       "       [0., 0., 0., 0., 0.],\n",
       "       [0., 0., 0., 0., 0.],\n",
       "       [0., 0., 0., 0., 0.],\n",
       "       [0., 0., 0., 0., 0.]])"
      ]
     },
     "execution_count": 6,
     "metadata": {},
     "output_type": "execute_result"
    }
   ],
   "source": [
    "n1=np.zeros((5,5))\n",
    "n1"
   ]
  },
  {
   "cell_type": "code",
   "execution_count": 7,
   "id": "8f9999d5",
   "metadata": {},
   "outputs": [
    {
     "data": {
      "text/plain": [
       "array([[0., 0., 0., 0., 0., 0., 0.],\n",
       "       [0., 0., 0., 0., 0., 0., 0.],\n",
       "       [0., 0., 0., 0., 0., 0., 0.],\n",
       "       [0., 0., 0., 0., 0., 0., 0.],\n",
       "       [0., 0., 0., 0., 0., 0., 0.]])"
      ]
     },
     "execution_count": 7,
     "metadata": {},
     "output_type": "execute_result"
    }
   ],
   "source": [
    "n1=np.zeros((5,7))\n",
    "n1"
   ]
  },
  {
   "cell_type": "markdown",
   "id": "07c95ec1",
   "metadata": {},
   "source": [
    "# (c) Initializing Numpy Array with same number"
   ]
  },
  {
   "cell_type": "code",
   "execution_count": 10,
   "id": "361e4d90",
   "metadata": {},
   "outputs": [
    {
     "data": {
      "text/plain": [
       "array([[10, 10, 10],\n",
       "       [10, 10, 10],\n",
       "       [10, 10, 10]])"
      ]
     },
     "execution_count": 10,
     "metadata": {},
     "output_type": "execute_result"
    }
   ],
   "source": [
    "n1=np.full((3,3),10)\n",
    "n1"
   ]
  },
  {
   "cell_type": "code",
   "execution_count": 11,
   "id": "cb8d475a",
   "metadata": {},
   "outputs": [
    {
     "data": {
      "text/plain": [
       "array([[11, 11, 11],\n",
       "       [11, 11, 11],\n",
       "       [11, 11, 11],\n",
       "       [11, 11, 11]])"
      ]
     },
     "execution_count": 11,
     "metadata": {},
     "output_type": "execute_result"
    }
   ],
   "source": [
    "n2=np.full((4,3),11)\n",
    "n2"
   ]
  },
  {
   "cell_type": "markdown",
   "id": "e95d0a87",
   "metadata": {},
   "source": [
    "# (d) Initializing Numpy Array within a range"
   ]
  },
  {
   "cell_type": "code",
   "execution_count": 8,
   "id": "dc684abf",
   "metadata": {},
   "outputs": [
    {
     "data": {
      "text/plain": [
       "array([10, 11, 12, 13, 14, 15, 16, 17, 18, 19, 20])"
      ]
     },
     "execution_count": 8,
     "metadata": {},
     "output_type": "execute_result"
    }
   ],
   "source": [
    "n1=np.arange(10,21)\n",
    "n1"
   ]
  },
  {
   "cell_type": "code",
   "execution_count": 9,
   "id": "69ff9188",
   "metadata": {},
   "outputs": [
    {
     "data": {
      "text/plain": [
       "array([ 10,  20,  30,  40,  50,  60,  70,  80,  90, 100, 110, 120])"
      ]
     },
     "execution_count": 9,
     "metadata": {},
     "output_type": "execute_result"
    }
   ],
   "source": [
    "n1=np.arange(10,130,10)  # There last one number which is 10 is difference in array\n",
    "n1"
   ]
  },
  {
   "cell_type": "markdown",
   "id": "01db1b1e",
   "metadata": {},
   "source": [
    "# (e) Initializing Numpy Array with random numbers"
   ]
  },
  {
   "cell_type": "code",
   "execution_count": 12,
   "id": "dbeffb02",
   "metadata": {},
   "outputs": [
    {
     "data": {
      "text/plain": [
       "array([83, 57,  5, 66, 88])"
      ]
     },
     "execution_count": 12,
     "metadata": {},
     "output_type": "execute_result"
    }
   ],
   "source": [
    "n1=np.random.randint(1,100,5)\n",
    "n1"
   ]
  },
  {
   "cell_type": "markdown",
   "id": "0e2960fe",
   "metadata": {},
   "source": [
    "# (f) Checking the shape of Numpy Array"
   ]
  },
  {
   "cell_type": "code",
   "execution_count": 13,
   "id": "5bb54b3c",
   "metadata": {},
   "outputs": [
    {
     "data": {
      "text/plain": [
       "(2, 3)"
      ]
     },
     "execution_count": 13,
     "metadata": {},
     "output_type": "execute_result"
    }
   ],
   "source": [
    "n1=np.array(([10,20,30],[10,20,30]))\n",
    "n1\n",
    "n1.shape"
   ]
  },
  {
   "cell_type": "markdown",
   "id": "b0ce8c69",
   "metadata": {},
   "source": [
    "# (g) Changing the shape of Numpy Array"
   ]
  },
  {
   "cell_type": "code",
   "execution_count": 14,
   "id": "bc68dcb4",
   "metadata": {},
   "outputs": [
    {
     "data": {
      "text/plain": [
       "(3, 2)"
      ]
     },
     "execution_count": 14,
     "metadata": {},
     "output_type": "execute_result"
    }
   ],
   "source": [
    "n1.shape=(3,2)\n",
    "n1.shape"
   ]
  },
  {
   "cell_type": "code",
   "execution_count": 15,
   "id": "4f49627d",
   "metadata": {},
   "outputs": [
    {
     "data": {
      "text/plain": [
       "array([[10, 20],\n",
       "       [30, 10],\n",
       "       [20, 30]])"
      ]
     },
     "execution_count": 15,
     "metadata": {},
     "output_type": "execute_result"
    }
   ],
   "source": [
    "n1"
   ]
  },
  {
   "cell_type": "markdown",
   "id": "0e29412c",
   "metadata": {},
   "source": [
    "# (h) Joining Numpy Array"
   ]
  },
  {
   "cell_type": "code",
   "execution_count": 3,
   "id": "043f9fb9",
   "metadata": {},
   "outputs": [
    {
     "data": {
      "text/plain": [
       "array([[45, 85, 96],\n",
       "       [12, 21, 10]])"
      ]
     },
     "execution_count": 3,
     "metadata": {},
     "output_type": "execute_result"
    }
   ],
   "source": [
    "# (i) v stack() - For vertical arrangement of array\n",
    "\n",
    "n1=np.array([45,85,96])\n",
    "n2=np.array([12,21,10])\n",
    "np.vstack((n1,n2))"
   ]
  },
  {
   "cell_type": "code",
   "execution_count": 4,
   "id": "43e17938",
   "metadata": {},
   "outputs": [
    {
     "data": {
      "text/plain": [
       "array([45, 85, 96, 12, 21, 10])"
      ]
     },
     "execution_count": 4,
     "metadata": {},
     "output_type": "execute_result"
    }
   ],
   "source": [
    "# (ii) h stack() - For horizontal arrangement of array\n",
    "\n",
    "n1=np.array([45,85,96])\n",
    "n2=np.array([12,21,10])\n",
    "np.hstack((n1,n2))"
   ]
  },
  {
   "cell_type": "code",
   "execution_count": 5,
   "id": "fa48f9e7",
   "metadata": {},
   "outputs": [
    {
     "data": {
      "text/plain": [
       "array([[45, 12],\n",
       "       [85, 21],\n",
       "       [96, 10]])"
      ]
     },
     "execution_count": 5,
     "metadata": {},
     "output_type": "execute_result"
    }
   ],
   "source": [
    "# (iii) column_stack()\n",
    "\n",
    "np.column_stack((n1,n2))"
   ]
  },
  {
   "cell_type": "markdown",
   "id": "09c82c7b",
   "metadata": {},
   "source": [
    "# (i) Numpy intersection and Difference"
   ]
  },
  {
   "cell_type": "code",
   "execution_count": 6,
   "id": "42c1525a",
   "metadata": {},
   "outputs": [
    {
     "data": {
      "text/plain": [
       "array([50, 60])"
      ]
     },
     "execution_count": 6,
     "metadata": {},
     "output_type": "execute_result"
    }
   ],
   "source": [
    "# (i) Numpy Intersection - 2 Numpy array main se common numbers alag karne ke liye use hota h\n",
    "\n",
    "n1=np.array([10,20,30,40,50,60])\n",
    "n2=np.array([50,60,70,80,90])\n",
    "np.intersect1d (n1,n2)"
   ]
  },
  {
   "cell_type": "code",
   "execution_count": 7,
   "id": "72c81fa3",
   "metadata": {},
   "outputs": [
    {
     "data": {
      "text/plain": [
       "array([10, 20, 30, 40])"
      ]
     },
     "execution_count": 7,
     "metadata": {},
     "output_type": "execute_result"
    }
   ],
   "source": [
    "# (ii) Difference - Diye gye sets main se 1st wale set main 2nd se jo alag hoga wo print hokr aata h\n",
    "\n",
    "# (a)\n",
    "np.setdiff1d (n1,n2)"
   ]
  },
  {
   "cell_type": "code",
   "execution_count": 8,
   "id": "ea17d313",
   "metadata": {},
   "outputs": [
    {
     "data": {
      "text/plain": [
       "array([70, 80, 90])"
      ]
     },
     "execution_count": 8,
     "metadata": {},
     "output_type": "execute_result"
    }
   ],
   "source": [
    "# (b)\n",
    "np.setdiff1d (n2,n1)"
   ]
  },
  {
   "cell_type": "markdown",
   "id": "3a5a88b6",
   "metadata": {},
   "source": [
    "# (j) Numpy Array Mathematics"
   ]
  },
  {
   "cell_type": "code",
   "execution_count": 9,
   "id": "b32a404d",
   "metadata": {},
   "outputs": [
    {
     "data": {
      "text/plain": [
       "500"
      ]
     },
     "execution_count": 9,
     "metadata": {},
     "output_type": "execute_result"
    }
   ],
   "source": [
    "# (i) Simple Sum\n",
    "\n",
    "n1=np.array([10,20,30,40,50])\n",
    "n2=np.array([50,60,70,80,90])\n",
    "np.sum ([n1,n2])"
   ]
  },
  {
   "cell_type": "code",
   "execution_count": 10,
   "id": "b97091e1",
   "metadata": {},
   "outputs": [
    {
     "data": {
      "text/plain": [
       "array([ 60,  80, 100, 120, 140])"
      ]
     },
     "execution_count": 10,
     "metadata": {},
     "output_type": "execute_result"
    }
   ],
   "source": [
    "# (ii) Row wise Sum\n",
    "\n",
    "np.sum([n1,n2],axis=0)"
   ]
  },
  {
   "cell_type": "code",
   "execution_count": 11,
   "id": "fd12174f",
   "metadata": {},
   "outputs": [
    {
     "data": {
      "text/plain": [
       "array([150, 350])"
      ]
     },
     "execution_count": 11,
     "metadata": {},
     "output_type": "execute_result"
    }
   ],
   "source": [
    "# (ii) Column wise Sum\n",
    "\n",
    "np.sum([n1,n2],axis=1)"
   ]
  },
  {
   "cell_type": "markdown",
   "id": "854682b0",
   "metadata": {},
   "source": [
    "# (k) Numpy Array Mathematics"
   ]
  },
  {
   "cell_type": "code",
   "execution_count": 14,
   "id": "1f7386dd",
   "metadata": {},
   "outputs": [
    {
     "data": {
      "text/plain": [
       "array([46, 64, 22, 13, 86])"
      ]
     },
     "execution_count": 14,
     "metadata": {},
     "output_type": "execute_result"
    }
   ],
   "source": [
    "# (i) Basic Addition\n",
    "\n",
    "n1=np.array([45,63,21,12,85])\n",
    "n1=n1+1\n",
    "n1"
   ]
  },
  {
   "cell_type": "code",
   "execution_count": 15,
   "id": "b8dded27",
   "metadata": {},
   "outputs": [
    {
     "data": {
      "text/plain": [
       "array([52, 70, 28, 19, 92])"
      ]
     },
     "execution_count": 15,
     "metadata": {},
     "output_type": "execute_result"
    }
   ],
   "source": [
    "n1=np.array([45,63,21,12,85])\n",
    "n1=n1+7\n",
    "n1"
   ]
  },
  {
   "cell_type": "code",
   "execution_count": 16,
   "id": "72fec7a0",
   "metadata": {},
   "outputs": [
    {
     "data": {
      "text/plain": [
       "array([44, 62, 20, 11, 84])"
      ]
     },
     "execution_count": 16,
     "metadata": {},
     "output_type": "execute_result"
    }
   ],
   "source": [
    "# (ii) Basic Substraction\n",
    "\n",
    "n1=np.array([45,63,21,12,85])\n",
    "n1=n1-1\n",
    "n1"
   ]
  },
  {
   "cell_type": "code",
   "execution_count": 17,
   "id": "d5058d5f",
   "metadata": {},
   "outputs": [
    {
     "data": {
      "text/plain": [
       "array([38, 56, 14,  5, 78])"
      ]
     },
     "execution_count": 17,
     "metadata": {},
     "output_type": "execute_result"
    }
   ],
   "source": [
    "n1=np.array([45,63,21,12,85])\n",
    "n1=n1-7\n",
    "n1"
   ]
  },
  {
   "cell_type": "code",
   "execution_count": 19,
   "id": "ee33554d",
   "metadata": {},
   "outputs": [
    {
     "data": {
      "text/plain": [
       "array([ 90, 126,  42,  24, 170])"
      ]
     },
     "execution_count": 19,
     "metadata": {},
     "output_type": "execute_result"
    }
   ],
   "source": [
    "# (iii) Basic Multiplication\n",
    "\n",
    "n1=np.array([45,63,21,12,85])\n",
    "n1=n1*2\n",
    "n1"
   ]
  },
  {
   "cell_type": "code",
   "execution_count": 20,
   "id": "112c01a0",
   "metadata": {},
   "outputs": [
    {
     "data": {
      "text/plain": [
       "array([315, 441, 147,  84, 595])"
      ]
     },
     "execution_count": 20,
     "metadata": {},
     "output_type": "execute_result"
    }
   ],
   "source": [
    "n1=np.array([45,63,21,12,85])\n",
    "n1=n1*7\n",
    "n1"
   ]
  },
  {
   "cell_type": "code",
   "execution_count": 21,
   "id": "e0a71376",
   "metadata": {},
   "outputs": [
    {
     "data": {
      "text/plain": [
       "array([22.5, 31.5, 10.5,  6. , 42.5])"
      ]
     },
     "execution_count": 21,
     "metadata": {},
     "output_type": "execute_result"
    }
   ],
   "source": [
    "# (iv) Basic Division\n",
    "\n",
    "n1=np.array([45,63,21,12,85])\n",
    "n1=n1/2\n",
    "n1"
   ]
  },
  {
   "cell_type": "code",
   "execution_count": 22,
   "id": "199e3361",
   "metadata": {},
   "outputs": [
    {
     "data": {
      "text/plain": [
       "array([ 9. , 12.6,  4.2,  2.4, 17. ])"
      ]
     },
     "execution_count": 22,
     "metadata": {},
     "output_type": "execute_result"
    }
   ],
   "source": [
    "n1=np.array([45,63,21,12,85])\n",
    "n1=n1/5\n",
    "n1"
   ]
  },
  {
   "cell_type": "code",
   "execution_count": 23,
   "id": "ad879369",
   "metadata": {},
   "outputs": [
    {
     "data": {
      "text/plain": [
       "35.0"
      ]
     },
     "execution_count": 23,
     "metadata": {},
     "output_type": "execute_result"
    }
   ],
   "source": [
    "# (v) Mean\n",
    "\n",
    "n1=np.array([10,20,30,40,50,60])\n",
    "np.mean(n1)"
   ]
  },
  {
   "cell_type": "code",
   "execution_count": 24,
   "id": "03ae7001",
   "metadata": {},
   "outputs": [
    {
     "data": {
      "text/plain": [
       "45.2"
      ]
     },
     "execution_count": 24,
     "metadata": {},
     "output_type": "execute_result"
    }
   ],
   "source": [
    "n1=np.array([45,63,21,12,85])\n",
    "np.mean(n1)"
   ]
  },
  {
   "cell_type": "code",
   "execution_count": 25,
   "id": "6a599af7",
   "metadata": {},
   "outputs": [
    {
     "data": {
      "text/plain": [
       "55.5"
      ]
     },
     "execution_count": 25,
     "metadata": {},
     "output_type": "execute_result"
    }
   ],
   "source": [
    "# (vi) Median\n",
    "\n",
    "n1=np.array([11,44,5,96,67,85])\n",
    "np.median(n1)"
   ]
  },
  {
   "cell_type": "code",
   "execution_count": 26,
   "id": "2914e3b5",
   "metadata": {},
   "outputs": [
    {
     "data": {
      "text/plain": [
       "45.0"
      ]
     },
     "execution_count": 26,
     "metadata": {},
     "output_type": "execute_result"
    }
   ],
   "source": [
    "n1=np.array([45,63,21,12,85])\n",
    "np.median(n1)"
   ]
  },
  {
   "cell_type": "code",
   "execution_count": 27,
   "id": "4a47021c",
   "metadata": {},
   "outputs": [
    {
     "data": {
      "text/plain": [
       "34.644223504391356"
      ]
     },
     "execution_count": 27,
     "metadata": {},
     "output_type": "execute_result"
    }
   ],
   "source": [
    "# (vii) Standard Deviation\n",
    "\n",
    "n1=np.array([11,44,5,96,67,85])\n",
    "np.std(n1)"
   ]
  },
  {
   "cell_type": "code",
   "execution_count": 28,
   "id": "cd9f842f",
   "metadata": {},
   "outputs": [
    {
     "data": {
      "text/plain": [
       "26.791043279424564"
      ]
     },
     "execution_count": 28,
     "metadata": {},
     "output_type": "execute_result"
    }
   ],
   "source": [
    "n1=np.array([45,63,21,12,85])\n",
    "np.std(n1)"
   ]
  },
  {
   "cell_type": "markdown",
   "id": "d93b1bc4",
   "metadata": {},
   "source": [
    "# (l) Numpy Save and Load"
   ]
  },
  {
   "cell_type": "code",
   "execution_count": 12,
   "id": "de36408b",
   "metadata": {},
   "outputs": [],
   "source": [
    "# (i) Saving Numpy as np\n",
    "\n",
    "n1=np.array([10,20,30,40,50,60])\n",
    "np.save(\"my_numpy\",n1)"
   ]
  },
  {
   "cell_type": "code",
   "execution_count": 13,
   "id": "5a7560a3",
   "metadata": {},
   "outputs": [
    {
     "data": {
      "text/plain": [
       "array([10, 20, 30, 40, 50, 60])"
      ]
     },
     "execution_count": 13,
     "metadata": {},
     "output_type": "execute_result"
    }
   ],
   "source": [
    "# (ii) Loading Numpy Array\n",
    "\n",
    "n2=np.load(\"my_numpy.npy\")\n",
    "n2"
   ]
  }
 ],
 "metadata": {
  "kernelspec": {
   "display_name": "Python 3 (ipykernel)",
   "language": "python",
   "name": "python3"
  },
  "language_info": {
   "codemirror_mode": {
    "name": "ipython",
    "version": 3
   },
   "file_extension": ".py",
   "mimetype": "text/x-python",
   "name": "python",
   "nbconvert_exporter": "python",
   "pygments_lexer": "ipython3",
   "version": "3.9.13"
  }
 },
 "nbformat": 4,
 "nbformat_minor": 5
}
